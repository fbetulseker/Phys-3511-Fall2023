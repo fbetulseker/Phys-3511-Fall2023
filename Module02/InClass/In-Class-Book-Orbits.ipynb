{
 "cells": [
  {
   "cell_type": "code",
   "execution_count": 3,
   "metadata": {},
   "outputs": [],
   "source": [
    "import numpy as np\n",
    "from scipy import integrate\n",
    "from scipy.integrate import odeint\n",
    "import matplotlib.pyplot as plt\n",
    "%matplotlib notebook"
   ]
  },
  {
   "cell_type": "markdown",
   "metadata": {},
   "source": [
    "## $m_2a = - \\frac{Gm_1m_2}{r^2}$ \n",
    "## We can rewrite this as:\n",
    "## * $\\dot{x} = \\frac{dx}{dt} = v_x$\n",
    "## * $\\ddot{x} = \\frac{d^2x}{dt^2} = \\frac{dv_x}{dt} = -\\frac{GM_E}{r^{3/2}}x$\n",
    "\n",
    "In General\n",
    "\n",
    "## * $\\vec{\\dot{u}} = \\vec{v}$\n",
    "## * $\\vec{\\ddot{u}} = -\\frac{GM_E}{r^{3/2}}\\vec{u}$\n"
   ]
  },
  {
   "cell_type": "markdown",
   "metadata": {},
   "source": [
    "## Complete the function below where we will treat state as a vector containing 6 elements:\n",
    "\n",
    "## $$state = [x,y,z,v_x,v_y,v_z]$$"
   ]
  },
  {
   "cell_type": "code",
   "execution_count": 4,
   "metadata": {},
   "outputs": [],
   "source": [
    "def model_2BP(t,state):\n",
    "    ME = 5.98E+24\n",
    "    G  = 6.67E-11 \n",
    "    mu = ME*G*1E-9  # Earth's gravitational parameter = M*G  \n",
    "                          # [km^3/s^2]\n",
    "    x = state[0] \n",
    "    y = state[1]\n",
    "    z = state[2]\n",
    "    \n",
    "    x_dot = state[3]\n",
    "    y_dot = state[4]\n",
    "    z_dot = state[5]\n",
    "    \n",
    "    x_ddot = -mu**(3/2)*x\n",
    "    y_ddot = -mu**(3/2)*y\n",
    "    z_ddot = -mu*z\n",
    "    \n",
    "    dstate_dt = [x_dot, y_dot, z_dot, x_ddot, y_ddot, z_ddot]\n",
    "    return dstate_dt"
   ]
  },
  {
   "cell_type": "markdown",
   "metadata": {},
   "source": [
    "## We will look at the orbit of the Internation Space Station. The initial conditons are defined below"
   ]
  },
  {
   "cell_type": "code",
   "execution_count": 5,
   "metadata": {},
   "outputs": [],
   "source": [
    "# Initial Conditions / ISS\n",
    "X_0 = -2775.03475\n",
    "Y_0 = 4524.24941\n",
    "Z_0 = 4207.43331\n",
    "VX_0 = -3.641793088\n",
    "VY_0 = -5.665088604\n",
    "VZ_0 =  3.679500667"
   ]
  },
  {
   "cell_type": "markdown",
   "metadata": {},
   "source": [
    " ### 1. Create an crete an initial state vector called $\\it{\\mathrm{state\\_0}}$ array containing the initial position and velocity information.\n",
    " ### 2. Then define a time array using $\\it{\\mathrm{linspace}}$ that starts at 0s and covers 21,600s containing 2000 points \n",
    " ### 3. Use Scipy's $\\it{\\mathrm{integrate.solve\\_ivp}}$ to solve the ODEs"
   ]
  },
  {
   "cell_type": "code",
   "execution_count": null,
   "metadata": {},
   "outputs": [],
   "source": [
    "state_0 = np.array([X_0, Y_0, Z_0, VX_0, VY_0, VZ_0])\n",
    "t0 = 0 #s\n",
    "tf = 216000 #s\n",
    "n = 2000\n",
    "t1 = np.linspace(t0,tf,n)\n",
    "sol_RK45 = integrate.solve_ivp(model_2BP,(t0,tf),state_0,method=\"RK45\", t_eval=t1)"
   ]
  },
  {
   "cell_type": "markdown",
   "metadata": {},
   "source": [
    "# Analyze the Results\n",
    "\n",
    "Make plots of X vs. time\n",
    "1. X vs. time, Y vs, time, Z vs. time\n",
    "2. X vs. Y, X vs. Z, Y vs. Z\n"
   ]
  },
  {
   "cell_type": "code",
   "execution_count": null,
   "metadata": {},
   "outputs": [],
   "source": []
  },
  {
   "cell_type": "code",
   "execution_count": null,
   "metadata": {},
   "outputs": [],
   "source": []
  },
  {
   "cell_type": "code",
   "execution_count": null,
   "metadata": {},
   "outputs": [],
   "source": []
  },
  {
   "cell_type": "markdown",
   "metadata": {},
   "source": [
    "# 3D Plot\n",
    "\n",
    "Make a 3D plot showing the 3D trajectory of the ISS\n"
   ]
  },
  {
   "cell_type": "code",
   "execution_count": null,
   "metadata": {},
   "outputs": [],
   "source": [
    "# Setting up Spherical Earth to Plot\n",
    "N = 50\n",
    "phi = np.linspace(0, 2 * np.pi, N)\n",
    "theta = np.linspace(0, np.pi, N)\n",
    "theta, phi = np.meshgrid(theta, phi)\n",
    "\n",
    "r_Earth = 6378.14  # Average radius of Earth [km]\n",
    "X_Earth = r_Earth * np.cos(phi) * np.sin(theta)\n",
    "Y_Earth = r_Earth * np.sin(phi) * np.sin(theta)\n",
    "Z_Earth = r_Earth * np.cos(theta)\n",
    "\n",
    "# Plotting Earth and Orbit\n",
    "fig = plt.figure()\n",
    "ax = plt.axes(projection='3d')\n",
    "ax.plot_surface(X_Earth, Y_Earth, Z_Earth, color='blue', alpha=0.4)\n",
    "\n",
    "#you need to redefine x_sat,y_sat, and z_sat to use your x,y,z solution array names\n",
    "ax.plot3D(x_sat, y_sat, z_sat, 'black')\n",
    "\n",
    "#ax.view_init(30, 145)  # Changing viewing angle (adjust as needed)\n",
    "plt.title('Two-Body Orbit')\n",
    "ax.set_xlabel('X [km]')\n",
    "ax.set_ylabel('Y [km]')\n",
    "ax.set_zlabel('Z [km]');\n"
   ]
  },
  {
   "cell_type": "code",
   "execution_count": null,
   "metadata": {},
   "outputs": [],
   "source": []
  },
  {
   "cell_type": "code",
   "execution_count": null,
   "metadata": {},
   "outputs": [],
   "source": []
  }
 ],
 "metadata": {
  "kernelspec": {
   "display_name": "Python 3 (ipykernel)",
   "language": "python",
   "name": "python3"
  },
  "language_info": {
   "codemirror_mode": {
    "name": "ipython",
    "version": 3
   },
   "file_extension": ".py",
   "mimetype": "text/x-python",
   "name": "python",
   "nbconvert_exporter": "python",
   "pygments_lexer": "ipython3",
   "version": "3.9.7"
  }
 },
 "nbformat": 4,
 "nbformat_minor": 4
}
